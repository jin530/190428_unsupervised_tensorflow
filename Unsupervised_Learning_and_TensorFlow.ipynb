{
  "nbformat": 4,
  "nbformat_minor": 0,
  "metadata": {
    "colab": {
      "name": "Unsupervised_Learning_and_TensorFlow.ipynb",
      "version": "0.3.2",
      "provenance": [],
      "collapsed_sections": [
        "pMeimgRCIVbd",
        "7kfDFWlAIVbg",
        "yTUsyP6MIVbj",
        "uXcMofsLIVbp",
        "AYSaBNuyIVbr",
        "WaGCUsGaIVby",
        "3gXlKyjkIVb1",
        "mxKMkpBZIVb4",
        "ggZnRzZUIVcG",
        "Odo_W1XXIVcM",
        "xOjgLc8GIVcV",
        "NWJCT0n6IVcg",
        "Sft6AAeTIVck",
        "1e_uVo1fIVcr",
        "dtrgZBnLIVcv",
        "cFXCgOrLIVc9",
        "CiyDC9FzIVdE",
        "t0WmGfvRIVdI",
        "7ASp1X1bIVdK",
        "NQBll0-xIVdQ",
        "tt2v4YxDIVdS",
        "M8SW-KCYIVdU",
        "XlR6KKeqIVdX"
      ]
    },
    "language_info": {
      "codemirror_mode": {
        "name": "ipython",
        "version": 3
      },
      "file_extension": ".py",
      "mimetype": "text/x-python",
      "name": "python",
      "nbconvert_exporter": "python",
      "pygments_lexer": "ipython3",
      "version": "3.6.5"
    },
    "kernelspec": {
      "display_name": "Python 3",
      "language": "python",
      "name": "python3"
    }
  },
  "cells": [
    {
      "metadata": {
        "id": "t7FzyUJWIVa7",
        "colab_type": "text"
      },
      "cell_type": "markdown",
      "source": [
        "# Unsupervised Learning 1 - Classification\n",
        "### * K-means & DBSCAN\n",
        "### * Scikit-Learn을 활용하여 쉽게 사용할 수 있습니다"
      ]
    },
    {
      "metadata": {
        "id": "6Lf9hytMh0wc",
        "colab_type": "code",
        "outputId": "64a17b61-4e69-418f-a223-18a3da3ab6cc",
        "colab": {
          "base_uri": "https://localhost:8080/",
          "height": 91
        }
      },
      "cell_type": "code",
      "source": [
        "import numpy as np\n",
        "import matplotlib as mpl\n",
        "import matplotlib.pyplot as plt\n",
        "from matplotlib.colors import ListedColormap, colorConverter, LinearSegmentedColormap\n",
        "from sklearn.decomposition import PCA, NMF\n",
        "from sklearn.externals.joblib import Memory\n",
        "\n",
        "memory = Memory(cachedir=\"cache\")\n",
        "\n",
        "cm_cycle = ListedColormap(['#0000aa', '#ff5050', '#50ff50', '#9040a0', '#fff000'])\n",
        "cm3 = ListedColormap(['#0000aa', '#ff2020', '#50ff50'])\n",
        "cm2 = ListedColormap(['#0000aa', '#ff2020'])\n",
        "\n",
        "# create a smooth transition from the first to to the second color of cm3\n",
        "# similar to RdBu but with our red and blue, also not going through white,\n",
        "# which is really bad for greyscale\n",
        "\n",
        "cdict = {'red': [(0.0, 0.0, cm2(0)[0]),\n",
        "                 (1.0, cm2(1)[0], 1.0)],\n",
        "\n",
        "         'green': [(0.0, 0.0, cm2(0)[1]),\n",
        "                   (1.0, cm2(1)[1], 1.0)],\n",
        "\n",
        "         'blue': [(0.0, 0.0, cm2(0)[2]),\n",
        "                  (1.0, cm2(1)[2], 1.0)]}\n",
        "\n",
        "ReBl = LinearSegmentedColormap(\"ReBl\", cdict)\n",
        "\n",
        "\n",
        "def discrete_scatter(x1, x2, y=None, markers=None, s=10, ax=None,\n",
        "                     labels=None, padding=.2, alpha=1, c=None, markeredgewidth=None):\n",
        "    \"\"\"Adaption of matplotlib.pyplot.scatter to plot classes or clusters.\n",
        "    Parameters\n",
        "    ----------\n",
        "    x1 : nd-array\n",
        "        input data, first axis\n",
        "    x2 : nd-array\n",
        "        input data, second axis\n",
        "    y : nd-array\n",
        "        input data, discrete labels\n",
        "    cmap : colormap\n",
        "        Colormap to use.\n",
        "    markers : list of string\n",
        "        List of markers to use, or None (which defaults to 'o').\n",
        "    s : int or float\n",
        "        Size of the marker\n",
        "    padding : float\n",
        "        Fraction of the dataset range to use for padding the axes.\n",
        "    alpha : float\n",
        "        Alpha value for all points.\n",
        "    \"\"\"\n",
        "    if ax is None:\n",
        "        ax = plt.gca()\n",
        "\n",
        "    if y is None:\n",
        "        y = np.zeros(len(x1))\n",
        "\n",
        "    unique_y = np.unique(y)\n",
        "\n",
        "    if markers is None:\n",
        "        markers = ['o', '^', 'v', 'D', 's', '*', 'p', 'h', 'H', '8', '<', '>'] * 10\n",
        "\n",
        "    if len(markers) == 1:\n",
        "        markers = markers * len(unique_y)\n",
        "\n",
        "    if labels is None:\n",
        "        labels = unique_y\n",
        "\n",
        "    # lines in the matplotlib sense, not actual lines\n",
        "    lines = []\n",
        "\n",
        "    current_cycler = mpl.rcParams['axes.prop_cycle']\n",
        "\n",
        "    for i, (yy, cycle) in enumerate(zip(unique_y, current_cycler())):\n",
        "        mask = y == yy\n",
        "        # if c is none, use color cycle\n",
        "        if c is None:\n",
        "            color = cycle['color']\n",
        "        elif len(c) > 1:\n",
        "            color = c[i]\n",
        "        else:\n",
        "            color = c\n",
        "        # use light edge for dark markers\n",
        "        if np.mean(colorConverter.to_rgb(color)) < .4:\n",
        "            markeredgecolor = \"grey\"\n",
        "        else:\n",
        "            markeredgecolor = \"black\"\n",
        "\n",
        "        lines.append(ax.plot(x1[mask], x2[mask], markers[i], markersize=s,\n",
        "                             label=labels[i], alpha=alpha, c=color,\n",
        "                             markeredgewidth=markeredgewidth,\n",
        "                             markeredgecolor=markeredgecolor)[0])\n",
        "\n",
        "    if padding != 0:\n",
        "        pad1 = x1.std() * padding\n",
        "        pad2 = x2.std() * padding\n",
        "        xlim = ax.get_xlim()\n",
        "        ylim = ax.get_ylim()\n",
        "        ax.set_xlim(min(x1.min() - pad1, xlim[0]), max(x1.max() + pad1, xlim[1]))\n",
        "        ax.set_ylim(min(x2.min() - pad2, ylim[0]), max(x2.max() + pad2, ylim[1]))\n",
        "\n",
        "    return lines\n",
        "\n",
        "@memory.cache\n",
        "def pca_faces(X_train, X_test):\n",
        "    # copy and pasted from nmf. refactor?\n",
        "    # Build NMF models with 10, 50, 100, 500 components\n",
        "    # this list will hold the back-transformd test-data\n",
        "    reduced_images = []\n",
        "    for n_components in [10, 50, 100, 500]:\n",
        "        # build the NMF model\n",
        "        pca = PCA(n_components=n_components)\n",
        "        pca.fit(X_train)\n",
        "        # transform the test data (afterwards has n_components many dimensions)\n",
        "        X_test_pca = pca.transform(X_test)\n",
        "        # back-transform the transformed test-data\n",
        "        # (afterwards it's in the original space again)\n",
        "        X_test_back = pca.inverse_transform(X_test_pca)\n",
        "        reduced_images.append(X_test_back)\n",
        "    return reduced_images\n",
        "\n",
        "\n",
        "def plot_pca_faces(X_train, X_test, image_shape):\n",
        "    reduced_images = pca_faces(X_train, X_test)\n",
        "\n",
        "    # plot the first three images in the test set:\n",
        "    fix, axes = plt.subplots(3, 5, figsize=(15, 12),\n",
        "                             subplot_kw={'xticks': (), 'yticks': ()})\n",
        "    for i, ax in enumerate(axes):\n",
        "        # plot original image\n",
        "        ax[0].imshow(X_test[i].reshape(image_shape),\n",
        "                     vmin=0, vmax=1)\n",
        "        # plot the four back-transformed images\n",
        "        for a, X_test_back in zip(ax[1:], reduced_images):\n",
        "            a.imshow(X_test_back[i].reshape(image_shape), vmin=0, vmax=1)\n",
        "\n",
        "    # label the top row\n",
        "    axes[0, 0].set_title(\"Original\")\n",
        "    for ax, n_components in zip(axes[0, 1:], [10, 50, 100, 500, 2000]):\n",
        "        ax.set_title(\"Component = %d\" % n_components)\n",
        "\n",
        "\n",
        "def nmf_faces(X_train, X_test):\n",
        "    # Build NMF models with 10, 50, 100 and 500 components\n",
        "    # this list will hold the back-transformd test-data\n",
        "    reduced_images = []\n",
        "    for n_components in [10, 50, 100, 500]:\n",
        "        # build the NMF model\n",
        "        nmf = NMF(n_components=n_components, random_state=0)\n",
        "        nmf.fit(X_train)\n",
        "        # transform the test data (afterwards has n_components many dimensions)\n",
        "        X_test_nmf = nmf.transform(X_test)\n",
        "        # back-transform the transformed test-data\n",
        "        # (afterwards it's in the original space again)\n",
        "        X_test_back = np.dot(X_test_nmf, nmf.components_)\n",
        "        reduced_images.append(X_test_back)\n",
        "    return reduced_images\n",
        "\n",
        "\n",
        "def plot_nmf_faces(X_train, X_test, image_shape):\n",
        "    reduced_images = nmf_faces(X_train, X_test)\n",
        "\n",
        "    # plot the first three images in the test set:\n",
        "    fix, axes = plt.subplots(3, 5, figsize=(15, 12),\n",
        "                             subplot_kw={'xticks': (), 'yticks': ()})\n",
        "    for i, ax in enumerate(axes):\n",
        "        # plot original image\n",
        "        ax[0].imshow(X_test[i].reshape(image_shape),\n",
        "                     vmin=0, vmax=1)\n",
        "        # plot the four back-transformed images\n",
        "        for a, X_test_back in zip(ax[1:], reduced_images):\n",
        "            a.imshow(X_test_back[i].reshape(image_shape), vmin=0, vmax=1)\n",
        "\n",
        "    # label the top row\n",
        "    axes[0, 0].set_title(\"Original\")\n",
        "    for ax, n_components in zip(axes[0, 1:], [10, 50, 100, 500]):\n",
        "        ax.set_title(\"Component = %d\" % n_components)"
      ],
      "execution_count": 2,
      "outputs": [
        {
          "output_type": "stream",
          "text": [
            "/usr/local/lib/python3.6/dist-packages/ipykernel_launcher.py:8: DeprecationWarning: The 'cachedir' parameter has been deprecated in version 0.12 and will be removed in version 0.14.\n",
            "You provided \"cachedir='cache'\", use \"location='cache'\" instead.\n",
            "  \n"
          ],
          "name": "stderr"
        }
      ]
    },
    {
      "metadata": {
        "id": "gO-9sXjDIVa-",
        "colab_type": "text"
      },
      "cell_type": "markdown",
      "source": [
        "# 1. Kmeans Classification without Scikit-Learn"
      ]
    },
    {
      "metadata": {
        "id": "2bS3qH5JIVa_",
        "colab_type": "code",
        "colab": {}
      },
      "cell_type": "code",
      "source": [
        "import numpy as np\n",
        "from sklearn.datasets import make_blobs\n",
        "from sklearn.metrics import pairwise_distances\n",
        "import matplotlib.pyplot as plt\n",
        "\n",
        "# notebook을 실행한 브라우저에서 바로 그림을 볼 수 있게 해주는 것\n",
        "%matplotlib inline "
      ],
      "execution_count": 0,
      "outputs": []
    },
    {
      "metadata": {
        "id": "KNYZJy4pIVbC",
        "colab_type": "text"
      },
      "cell_type": "markdown",
      "source": [
        "## (1) 데이터 준비"
      ]
    },
    {
      "metadata": {
        "scrolled": true,
        "id": "4LvJowQDIVbC",
        "colab_type": "code",
        "colab": {}
      },
      "cell_type": "code",
      "source": [
        "# 인위적으로 2차원 데이터를 생성합니다\n",
        "X, y = make_blobs(random_state=1)\n",
        "\n",
        "print(len(X), len(y))\n",
        "print(X[:10], y[:10])"
      ],
      "execution_count": 0,
      "outputs": []
    },
    {
      "metadata": {
        "id": "yoCZA13SIVbE",
        "colab_type": "text"
      },
      "cell_type": "markdown",
      "source": [
        "### X, y를 그림으로 나타내면 다음과 같습니다."
      ]
    },
    {
      "metadata": {
        "id": "A7HRu4XmIVbF",
        "colab_type": "code",
        "colab": {}
      },
      "cell_type": "code",
      "source": [
        "#for visulalization\n",
        "ax = plt.gca()\n",
        "ax.set_title(\"Input data\")\n",
        "ax.plot(X[:,0], X[:,1], 'o')\n",
        "\n",
        "ax.set_xlim(X[:,0].min() - X[:,0].std(), X[:,0].max() + X[:,0].std())\n",
        "ax.set_ylim(X[:,1].min() - X[:,1].std(), X[:,1].max() + X[:,1].std())"
      ],
      "execution_count": 0,
      "outputs": []
    },
    {
      "metadata": {
        "id": "HBv5A10RIVbH",
        "colab_type": "text"
      },
      "cell_type": "markdown",
      "source": [
        "## (2) K-means Algorithm\n",
        "\n",
        "### 1) 데이터의 어떤 영역을 대표하는 클러스터 중심(cluster center)을 정한다."
      ]
    },
    {
      "metadata": {
        "id": "dFZ-v7EIIVbI",
        "colab_type": "code",
        "colab": {}
      },
      "cell_type": "code",
      "source": [
        "center = X[:3, :] #클러스터 중심을 입력 데이터의 점으로 선택합니다.\n",
        "\n",
        "#for visulalization\n",
        "ax = plt.gca()\n",
        "ax.set_title(\"Initialize\")\n",
        "ax.plot(X[:,0], X[:,1], 'o')\n",
        "\n",
        "ax.plot(center[0,0], center[0,1],'r^', markeredgewidth=1, markeredgecolor='k')\n",
        "ax.plot(center[1,0], center[1,1],'m^', markeredgewidth=1, markeredgecolor='k')\n",
        "ax.plot(center[2,0], center[2,1],'y^', markeredgewidth=1, markeredgecolor='k')"
      ],
      "execution_count": 0,
      "outputs": []
    },
    {
      "metadata": {
        "id": "GKlBD9_0IVbK",
        "colab_type": "text"
      },
      "cell_type": "markdown",
      "source": [
        "### 2) 데이터를 가장 가까운 클러스터 중심에 할당한다."
      ]
    },
    {
      "metadata": {
        "id": "n61u7d2oIVbK",
        "colab_type": "code",
        "colab": {}
      },
      "cell_type": "code",
      "source": [
        "labels = np.argmin(pairwise_distances(center, X), axis=0)\n",
        "print(labels)\n",
        "\n",
        "#for visulalization\n",
        "X_labels = []\n",
        "for i in range(3):\n",
        "    X_labels.append([])\n",
        "    for x, label in zip(X, labels):\n",
        "        if label == i: X_labels[i].append(x)\n",
        "    X_labels[i] = np.asarray(X_labels[i])\n",
        "X_labels = np.asarray(X_labels)\n",
        "ax = plt.gca()\n",
        "ax.set_title(\"point assign(1)\")\n",
        "ax.plot(X_labels[0][:,0], X_labels[0][:,1],'ro')\n",
        "ax.plot(X_labels[1][:,0], X_labels[1][:,1],'mo')\n",
        "ax.plot(X_labels[2][:,0], X_labels[2][:,1],'yo')\n",
        "ax.plot(center[0,0], center[0,1],'r^', markeredgewidth=1, markeredgecolor='k')\n",
        "ax.plot(center[1,0], center[1,1],'m^', markeredgewidth=1, markeredgecolor='k')\n",
        "ax.plot(center[2,0], center[2,1],'y^', markeredgewidth=1, markeredgecolor='k')"
      ],
      "execution_count": 0,
      "outputs": []
    },
    {
      "metadata": {
        "id": "Xmeze7VfIVbM",
        "colab_type": "text"
      },
      "cell_type": "markdown",
      "source": [
        "### 3) 할당된 데이터 포인트의 평균으로 클러스터 중심을 다시 정한다."
      ]
    },
    {
      "metadata": {
        "scrolled": false,
        "id": "niFpc_4pIVbN",
        "colab_type": "code",
        "colab": {}
      },
      "cell_type": "code",
      "source": [
        "center = [X[np.where(labels == i)].mean(axis=0) for i in range(3)]\n",
        "# 풀어쓰면 다음과 같습니다.\n",
        "for i in range(3):\n",
        "    indices = np.where(labels==i)\n",
        "    center[i] = X[indices].mean(axis=0)\n",
        "\n",
        "center = np.array(center)\n",
        "print(center)\n",
        "\n",
        "#for visulalization\n",
        "ax = plt.gca()\n",
        "ax.set_title(\"calculate the center(1)\")\n",
        "ax.plot(X_labels[0][:,0], X_labels[0][:,1],'ro')\n",
        "ax.plot(X_labels[1][:,0], X_labels[1][:,1],'mo')\n",
        "ax.plot(X_labels[2][:,0], X_labels[2][:,1],'yo')\n",
        "ax.plot(center[0,0], center[0,1],'r^', markeredgewidth=1, markeredgecolor='k')\n",
        "ax.plot(center[1,0], center[1,1],'m^', markeredgewidth=1, markeredgecolor='k')\n",
        "ax.plot(center[2,0], center[2,1],'y^', markeredgewidth=1, markeredgecolor='k')"
      ],
      "execution_count": 0,
      "outputs": []
    },
    {
      "metadata": {
        "id": "uvVDOwvZIVbP",
        "colab_type": "text"
      },
      "cell_type": "markdown",
      "source": [
        "### 4) 2), 3)의 과정(데이터 할당, 클러스터 중심 계산)을 반복한다."
      ]
    },
    {
      "metadata": {
        "id": "OpY1-YftIVbQ",
        "colab_type": "code",
        "colab": {}
      },
      "cell_type": "code",
      "source": [
        "labels = np.argmin(pairwise_distances(center, X), axis=0)\n",
        "print(labels)\n",
        "\n",
        "#for visulalization\n",
        "X_labels = []\n",
        "for i in range(3):\n",
        "    X_labels.append([])\n",
        "    for x, label in zip(X, labels):\n",
        "        if label == i: X_labels[i].append(x)\n",
        "    X_labels[i] = np.asarray(X_labels[i])\n",
        "X_labels = np.asarray(X_labels)\n",
        "ax = plt.gca()\n",
        "ax.set_title(\"point assign(2)\")\n",
        "ax.plot(X_labels[0][:,0], X_labels[0][:,1],'ro')\n",
        "ax.plot(X_labels[1][:,0], X_labels[1][:,1],'mo')\n",
        "ax.plot(X_labels[2][:,0], X_labels[2][:,1],'yo')\n",
        "ax.plot(center[0,0], center[0,1],'r^', markeredgewidth=1, markeredgecolor='k')\n",
        "ax.plot(center[1,0], center[1,1],'m^', markeredgewidth=1, markeredgecolor='k')\n",
        "ax.plot(center[2,0], center[2,1],'y^', markeredgewidth=1, markeredgecolor='k')"
      ],
      "execution_count": 0,
      "outputs": []
    },
    {
      "metadata": {
        "id": "TgEDAk8rIVbT",
        "colab_type": "code",
        "colab": {}
      },
      "cell_type": "code",
      "source": [
        "center = np.array([np.mean(x, axis=0) for x in X_labels])\n",
        "print(center)\n",
        "\n",
        "#for visulalization\n",
        "ax = plt.gca()\n",
        "ax.set_title(\"calculate the center(2)\")\n",
        "ax.plot(X_labels[0][:,0], X_labels[0][:,1],'ro')\n",
        "ax.plot(X_labels[1][:,0], X_labels[1][:,1],'mo')\n",
        "ax.plot(X_labels[2][:,0], X_labels[2][:,1],'yo')\n",
        "ax.plot(center[0,0], center[0,1],'r^', markeredgewidth=1, markeredgecolor='k')\n",
        "ax.plot(center[1,0], center[1,1],'m^', markeredgewidth=1, markeredgecolor='k')\n",
        "ax.plot(center[2,0], center[2,1],'y^', markeredgewidth=1, markeredgecolor='k')"
      ],
      "execution_count": 0,
      "outputs": []
    },
    {
      "metadata": {
        "id": "Ydbyxm8_IVbV",
        "colab_type": "code",
        "colab": {}
      },
      "cell_type": "code",
      "source": [
        "labels = np.argmin(pairwise_distances(center, X), axis=0)\n",
        "print(labels)\n",
        "\n",
        "\n",
        "#for visulalization\n",
        "X_labels = []\n",
        "for i in range(3):\n",
        "    X_labels.append([])\n",
        "    for x, label in zip(X, labels):\n",
        "        if label == i: X_labels[i].append(x)\n",
        "    X_labels[i] = np.asarray(X_labels[i])\n",
        "X_labels = np.asarray(X_labels)\n",
        "ax = plt.gca()\n",
        "ax.set_title(\"point assign(3)\")\n",
        "ax.plot(X_labels[0][:,0], X_labels[0][:,1],'ro')\n",
        "ax.plot(X_labels[1][:,0], X_labels[1][:,1],'mo')\n",
        "ax.plot(X_labels[2][:,0], X_labels[2][:,1],'yo')\n",
        "ax.plot(center[0,0], center[0,1],'r^', markeredgewidth=1, markeredgecolor='k')\n",
        "ax.plot(center[1,0], center[1,1],'m^', markeredgewidth=1, markeredgecolor='k')\n",
        "ax.plot(center[2,0], center[2,1],'y^', markeredgewidth=1, markeredgecolor='k')"
      ],
      "execution_count": 0,
      "outputs": []
    },
    {
      "metadata": {
        "id": "ZUBKhTU6IVbX",
        "colab_type": "code",
        "colab": {}
      },
      "cell_type": "code",
      "source": [
        "center = np.array([np.mean(x, axis=0) for x in X_labels])\n",
        "print(center)\n",
        "\n",
        "#for visulalization\n",
        "ax = plt.gca()\n",
        "ax.set_title(\"calculate the center(3)\")\n",
        "ax.plot(X_labels[0][:,0], X_labels[0][:,1],'ro')\n",
        "ax.plot(X_labels[1][:,0], X_labels[1][:,1],'mo')\n",
        "ax.plot(X_labels[2][:,0], X_labels[2][:,1],'yo')\n",
        "ax.plot(center[0,0], center[0,1],'r^', markeredgewidth=1, markeredgecolor='k')\n",
        "ax.plot(center[1,0], center[1,1],'m^', markeredgewidth=1, markeredgecolor='k')\n",
        "ax.plot(center[2,0], center[2,1],'y^', markeredgewidth=1, markeredgecolor='k')"
      ],
      "execution_count": 0,
      "outputs": []
    },
    {
      "metadata": {
        "id": "aeCFnVVpIVbZ",
        "colab_type": "code",
        "colab": {}
      },
      "cell_type": "code",
      "source": [
        "labels = np.argmin(pairwise_distances(center, X), axis=0)\n",
        "print(labels)\n",
        "\n",
        "\n",
        "#for visulalization\n",
        "X_labels = []\n",
        "for i in range(3):\n",
        "    X_labels.append([])\n",
        "    for x, label in zip(X, labels):\n",
        "        if label == i: X_labels[i].append(x)\n",
        "    X_labels[i] = np.asarray(X_labels[i])\n",
        "X_labels = np.asarray(X_labels)\n",
        "ax = plt.gca()\n",
        "ax.set_title(\"point assign(4)\")\n",
        "ax.plot(X_labels[0][:,0], X_labels[0][:,1],'ro')\n",
        "ax.plot(X_labels[1][:,0], X_labels[1][:,1],'mo')\n",
        "ax.plot(X_labels[2][:,0], X_labels[2][:,1],'yo')\n",
        "ax.plot(center[0,0], center[0,1],'r^', markeredgewidth=1, markeredgecolor='k')\n",
        "ax.plot(center[1,0], center[1,1],'m^', markeredgewidth=1, markeredgecolor='k')\n",
        "ax.plot(center[2,0], center[2,1],'y^', markeredgewidth=1, markeredgecolor='k')"
      ],
      "execution_count": 0,
      "outputs": []
    },
    {
      "metadata": {
        "id": "c2MBqbBCIVbb",
        "colab_type": "text"
      },
      "cell_type": "markdown",
      "source": [
        "# 2. Kmeans Classification with Scikit-Learn"
      ]
    },
    {
      "metadata": {
        "id": "xm_upVXrIVbc",
        "colab_type": "code",
        "colab": {}
      },
      "cell_type": "code",
      "source": [
        "from sklearn.cluster import KMeans"
      ],
      "execution_count": 0,
      "outputs": []
    },
    {
      "metadata": {
        "id": "pMeimgRCIVbd",
        "colab_type": "text"
      },
      "cell_type": "markdown",
      "source": [
        "## (1) 데이터 준비"
      ]
    },
    {
      "metadata": {
        "id": "XIVgysVCIVbe",
        "colab_type": "code",
        "colab": {}
      },
      "cell_type": "code",
      "source": [
        "# 인위적으로 2차원 데이터를 생성합니다\n",
        "X, y = make_blobs(random_state=1)"
      ],
      "execution_count": 0,
      "outputs": []
    },
    {
      "metadata": {
        "id": "7kfDFWlAIVbg",
        "colab_type": "text"
      },
      "cell_type": "markdown",
      "source": [
        "## (2) K-Means 알고리즘 실행"
      ]
    },
    {
      "metadata": {
        "id": "fb8okeQqIVbg",
        "colab_type": "code",
        "colab": {}
      },
      "cell_type": "code",
      "source": [
        "# 군집 모델을 만듭니다\n",
        "kmeans = KMeans(n_clusters=3)\n",
        "kmeans.fit(X)"
      ],
      "execution_count": 0,
      "outputs": []
    },
    {
      "metadata": {
        "id": "yTUsyP6MIVbj",
        "colab_type": "text"
      },
      "cell_type": "markdown",
      "source": [
        "## (3) 실행결과 확인"
      ]
    },
    {
      "metadata": {
        "id": "65XGbOqDIVbj",
        "colab_type": "code",
        "colab": {}
      },
      "cell_type": "code",
      "source": [
        "print(kmeans.labels_)\n",
        "print(kmeans.cluster_centers_)"
      ],
      "execution_count": 0,
      "outputs": []
    },
    {
      "metadata": {
        "id": "ndE-l95rIVbm",
        "colab_type": "code",
        "colab": {}
      },
      "cell_type": "code",
      "source": [
        "# 데이터를 그래프로 표현하기 위한 함수입니다.\n",
        "# def discrete_scatter(x1, x2, y=None, markers=None, s=10, ax=None, labels=None, padding=.2, alpha=1, c=None, markeredgewidth=None)\n",
        "# x1 : input data, first axis\n",
        "# x2 : input data, sexond axis\n",
        "# y : input data, discrete labels\n",
        "\n",
        "discrete_scatter(X[:,0],X[:,1], kmeans.labels_, markers='o')\n",
        "discrete_scatter(kmeans.cluster_centers_[:,0], kmeans.cluster_centers_[:,1],[0,1,2], markers='^', markeredgewidth=3)"
      ],
      "execution_count": 0,
      "outputs": []
    },
    {
      "metadata": {
        "id": "uXcMofsLIVbp",
        "colab_type": "text"
      },
      "cell_type": "markdown",
      "source": [
        "## (4) 실습"
      ]
    },
    {
      "metadata": {
        "id": "AYSaBNuyIVbr",
        "colab_type": "text"
      },
      "cell_type": "markdown",
      "source": [
        "### 위의 예시를 참고해서, X, y를 적절히 분류해보세요"
      ]
    },
    {
      "metadata": {
        "id": "X3V4AKmhIVbs",
        "colab_type": "code",
        "colab": {}
      },
      "cell_type": "code",
      "source": [
        "X, y = make_blobs(centers=4, random_state=6)\n",
        "\n",
        "labels = np.zeros(len(X))\n",
        "#-----------------------------------------------------\n",
        "# 이 곳에 코드를 작성하세요.\n",
        "\n",
        "\n",
        "\n",
        "\n",
        "\n",
        "\n",
        "#-----------------------------------------------------\n",
        "discrete_scatter(X[:,0],X[:,1], labels)"
      ],
      "execution_count": 0,
      "outputs": []
    },
    {
      "metadata": {
        "id": "fikNcjTZIVbv",
        "colab_type": "text"
      },
      "cell_type": "markdown",
      "source": [
        "# 3. DBSCAN with Scikit-Learn"
      ]
    },
    {
      "metadata": {
        "id": "M2m11bqAIVbw",
        "colab_type": "code",
        "colab": {}
      },
      "cell_type": "code",
      "source": [
        "import numpy as np\n",
        "from sklearn.datasets import make_blobs\n",
        "from sklearn.cluster import DBSCAN"
      ],
      "execution_count": 0,
      "outputs": []
    },
    {
      "metadata": {
        "id": "WaGCUsGaIVby",
        "colab_type": "text"
      },
      "cell_type": "markdown",
      "source": [
        "## (1) 데이터 준비"
      ]
    },
    {
      "metadata": {
        "id": "mckdqUraIVbz",
        "colab_type": "code",
        "colab": {}
      },
      "cell_type": "code",
      "source": [
        "# 인위적으로 2차원 데이터를 생성합니다\n",
        "X, y = make_blobs(random_state=1)"
      ],
      "execution_count": 0,
      "outputs": []
    },
    {
      "metadata": {
        "id": "3gXlKyjkIVb1",
        "colab_type": "text"
      },
      "cell_type": "markdown",
      "source": [
        "## (2) DBSCAN 알고리즘 실행"
      ]
    },
    {
      "metadata": {
        "id": "dEiGMq6-IVb1",
        "colab_type": "code",
        "colab": {}
      },
      "cell_type": "code",
      "source": [
        "dbscan = DBSCAN()\n",
        "dbscan.fit(X)"
      ],
      "execution_count": 0,
      "outputs": []
    },
    {
      "metadata": {
        "id": "mxKMkpBZIVb4",
        "colab_type": "text"
      },
      "cell_type": "markdown",
      "source": [
        "## (3) 실행결과 확인"
      ]
    },
    {
      "metadata": {
        "id": "P6iyaH4lIVb5",
        "colab_type": "code",
        "colab": {}
      },
      "cell_type": "code",
      "source": [
        "print(dbscan.labels_)"
      ],
      "execution_count": 0,
      "outputs": []
    },
    {
      "metadata": {
        "id": "rpqxP3LqIVcC",
        "colab_type": "code",
        "colab": {}
      },
      "cell_type": "code",
      "source": [
        "discrete_scatter(X[:,0],X[:,1], dbscan.labels_)"
      ],
      "execution_count": 0,
      "outputs": []
    },
    {
      "metadata": {
        "id": "ggZnRzZUIVcG",
        "colab_type": "text"
      },
      "cell_type": "markdown",
      "source": [
        "## (4) 실습\n",
        "\n",
        "### DBSCAN의 파라미터(eps, min_samples)를 조정하여 데이터를 적절히 분류해보세요.\n",
        "#### ex. dbscan = DBSCAN(eps=0.5, min_samples=5)"
      ]
    },
    {
      "metadata": {
        "id": "ikkgog0zIVcH",
        "colab_type": "code",
        "colab": {}
      },
      "cell_type": "code",
      "source": [
        "X, y = make_blobs(random_state = 1)\n",
        "\n",
        "labels = np.zeros(len(X))\n",
        "#-----------------------------------------------------\n",
        "# 이 곳에 코드를 작성하세요.\n",
        "\n",
        "\n",
        "\n",
        "\n",
        "\n",
        "\n",
        "#-----------------------------------------------------\n",
        "discrete_scatter(X[:,0],X[:,1], labels)"
      ],
      "execution_count": 0,
      "outputs": []
    },
    {
      "metadata": {
        "id": "Odo_W1XXIVcM",
        "colab_type": "text"
      },
      "cell_type": "markdown",
      "source": [
        "### DBSCAN의 파라미터(eps, min_samples)를 조정하여 데이터를 적절히 분류해보세요.\n",
        "#### ex. dbscan = DBSCAN(eps=0.5, min_samples=5)"
      ]
    },
    {
      "metadata": {
        "id": "EUrqr15MIVcO",
        "colab_type": "code",
        "colab": {}
      },
      "cell_type": "code",
      "source": [
        "from sklearn.datasets import make_circles\n",
        "X, y = make_circles()\n",
        "\n",
        "labels = np.zeros(len(X))\n",
        "#-----------------------------------------------------\n",
        "# 이 곳에 코드를 작성하세요.\n",
        "\n",
        "\n",
        "\n",
        "\n",
        "\n",
        "\n",
        "#-----------------------------------------------------\n",
        "discrete_scatter(X[:,0],X[:,1], labels)"
      ],
      "execution_count": 0,
      "outputs": []
    },
    {
      "metadata": {
        "id": "VuryCJY5IVcU",
        "colab_type": "text"
      },
      "cell_type": "markdown",
      "source": [
        "# Unsupervised Learning 2 - Dimensionality Reduction\n",
        "### * PCA & NMF\n",
        "### * Scikit-Learn을 활용하여 쉽게 사용할 수 있습니다"
      ]
    },
    {
      "metadata": {
        "id": "xOjgLc8GIVcV",
        "colab_type": "text"
      },
      "cell_type": "markdown",
      "source": [
        "## (1) 데이터 준비"
      ]
    },
    {
      "metadata": {
        "id": "U6ylCzIJIVcW",
        "colab_type": "code",
        "colab": {}
      },
      "cell_type": "code",
      "source": [
        "from sklearn.datasets import fetch_lfw_people\n",
        "\n",
        "lfw_people = fetch_lfw_people(min_faces_per_person=20, resize=0.7)"
      ],
      "execution_count": 0,
      "outputs": []
    },
    {
      "metadata": {
        "scrolled": true,
        "id": "ffugAaKHIVcY",
        "colab_type": "code",
        "colab": {}
      },
      "cell_type": "code",
      "source": [
        "print(lfw_people.data.shape) \n",
        "print(lfw_people.images.shape) \n",
        "print(lfw_people.target.shape)\n",
        "print(len(lfw_people.target_names))"
      ],
      "execution_count": 0,
      "outputs": []
    },
    {
      "metadata": {
        "id": "rNtQai90IVca",
        "colab_type": "code",
        "colab": {}
      },
      "cell_type": "code",
      "source": [
        "import numpy as np\n",
        "lfw_counts = np.bincount(lfw_people.target) # 각 클래스별 빈도 계산\n",
        "for (name, count) in zip(lfw_people.target_names, lfw_counts):\n",
        "    print(\"{0:25} {1:4}\".format(name, count)) # (이름, 빈도 수) 출력"
      ],
      "execution_count": 0,
      "outputs": []
    },
    {
      "metadata": {
        "id": "TwtOspzOIVcc",
        "colab_type": "code",
        "colab": {}
      },
      "cell_type": "code",
      "source": [
        "mask = np.zeros(lfw_people.target.shape, dtype=np.bool)\n",
        "for target in np.unique(lfw_people.target):\n",
        "    mask[np.where(lfw_people.target==target)[0][:50]] = True\n",
        "\n",
        "X_people = lfw_people.data[mask]\n",
        "y_people = lfw_people.target[mask]\n",
        "X_people = X_people/255\t # 픽셀 크기를 0~1 사이로 조정\n",
        "print(X_people.shape) # output = (2063, 5655)\n",
        "print(y_people.shape) # output = (2063,)"
      ],
      "execution_count": 0,
      "outputs": []
    },
    {
      "metadata": {
        "id": "jv9EhGXEIVce",
        "colab_type": "code",
        "colab": {}
      },
      "cell_type": "code",
      "source": [
        "from sklearn.model_selection import train_test_split\n",
        "X_train, X_test, y_train, y_test = train_test_split(X_people, y_people, stratify=y_people, random_state=0)"
      ],
      "execution_count": 0,
      "outputs": []
    },
    {
      "metadata": {
        "id": "NWJCT0n6IVcg",
        "colab_type": "text"
      },
      "cell_type": "markdown",
      "source": [
        "## (2) PCA 알고리즘 실행"
      ]
    },
    {
      "metadata": {
        "id": "YHS_yZtBIVch",
        "colab_type": "code",
        "colab": {}
      },
      "cell_type": "code",
      "source": [
        "from sklearn.decomposition import PCA\n",
        "pca=PCA(n_components=100, whiten=True, random_state=0).fit(X_train)\n",
        "X_train_pca = pca.transform(X_train) # X_train에 차원축소 방법인 PCA 적용 \n",
        "X_test_pca = pca.transform(X_test) # X_test에 차원축소 방법인 PCA 적용 \n",
        "print(X_train_pca.shape)\n",
        "print(X_test_pca.shape)\n",
        "X_train_back = pca.inverse_transform(X_train_pca) # X_train_pca를 원래 데이터로 복구 \n",
        "X_test_back = pca.inverse_transform(X_test_pca) # X_test_pca를 원래 데이터로 복구 \n",
        "print(X_train_back.shape)\n",
        "print(X_test_back.shape)"
      ],
      "execution_count": 0,
      "outputs": []
    },
    {
      "metadata": {
        "id": "Sft6AAeTIVck",
        "colab_type": "text"
      },
      "cell_type": "markdown",
      "source": [
        "## (3) 실행결과 확인"
      ]
    },
    {
      "metadata": {
        "id": "KhSrbwgzIVck",
        "colab_type": "code",
        "colab": {}
      },
      "cell_type": "code",
      "source": [
        "%matplotlib inline\n",
        "import matplotlib.pyplot as plt\n",
        "fig, axes = plt.subplots(2, 5, figsize=(10, 5), \tsubplot_kw={'xticks':(), 'yticks':()})\n",
        "\n",
        "image_shape = lfw_people.images[0].shape\t # output = (87, 65)\n",
        "\n",
        "for i, (component, ax) in enumerate(zip(pca.components_,axes.ravel())):\n",
        "    ax.imshow(component.reshape(image_shape))\n",
        "    ax.set_title(\"PCA {}\".format((i+1)))"
      ],
      "execution_count": 0,
      "outputs": []
    },
    {
      "metadata": {
        "id": "vLGIK0UrIVcm",
        "colab_type": "code",
        "colab": {}
      },
      "cell_type": "code",
      "source": [
        "fig, axes = plt.subplots(2, 5, figsize=(10, 5), \tsubplot_kw={'xticks':(), 'yticks':()})\n",
        "for i, (component, ax) in enumerate(zip(X_train,axes.ravel())):\n",
        "    ax.imshow(component.reshape(image_shape))\n",
        "    ax.set_title(\"Original {}\".format((i+1)))\n",
        "\n",
        "fig, axes = plt.subplots(2, 5, figsize=(10, 5), \tsubplot_kw={'xticks':(), 'yticks':()})\n",
        "for i, (component, ax) in enumerate(zip(X_train_back,axes.ravel())):\n",
        "    ax.imshow(component.reshape(image_shape))\n",
        "    ax.set_title(\"Reconsturcted {}\".format((i+1)))"
      ],
      "execution_count": 0,
      "outputs": []
    },
    {
      "metadata": {
        "id": "MyKT9cyHIVcn",
        "colab_type": "code",
        "colab": {}
      },
      "cell_type": "code",
      "source": [
        "fig, axes = plt.subplots(2, 5, figsize=(10, 5), \tsubplot_kw={'xticks':(), 'yticks':()})\n",
        "for i, (component, ax) in enumerate(zip(X_test,axes.ravel())):\n",
        "    ax.imshow(component.reshape(image_shape))\n",
        "    ax.set_title(\"Original {}\".format((i+1)))\n",
        "\n",
        "fig, axes = plt.subplots(2, 5, figsize=(10, 5), \tsubplot_kw={'xticks':(), 'yticks':()})\n",
        "for i, (component, ax) in enumerate(zip(X_test_back,axes.ravel())):\n",
        "    ax.imshow(component.reshape(image_shape))\n",
        "    ax.set_title(\"Reconsturcted {}\".format((i+1)))"
      ],
      "execution_count": 0,
      "outputs": []
    },
    {
      "metadata": {
        "id": "fLZwMwjCIVcq",
        "colab_type": "code",
        "colab": {}
      },
      "cell_type": "code",
      "source": [
        "plot_pca_faces(X_train, X_test, image_shape)"
      ],
      "execution_count": 0,
      "outputs": []
    },
    {
      "metadata": {
        "id": "1e_uVo1fIVcr",
        "colab_type": "text"
      },
      "cell_type": "markdown",
      "source": [
        "## (2) NMF 알고리즘 실행"
      ]
    },
    {
      "metadata": {
        "id": "PVYwkz43IVcs",
        "colab_type": "code",
        "colab": {}
      },
      "cell_type": "code",
      "source": [
        "from sklearn.decomposition import NMF\n",
        "nmf=NMF(n_components=100, random_state=0).fit(X_train)\n",
        "X_train_nmf = nmf.transform(X_train) # X_train에 차원축소 방법인 NMF 적용 \n",
        "X_test_nmf = nmf.transform(X_test) # X_test에 차원축소 방법인 NMF 적용 \n",
        "print(X_train_nmf.shape)\n",
        "print(X_test_nmf.shape)\n",
        "X_train_back = nmf.inverse_transform(X_train_nmf) # X_train_nmf를 원래 데이터로 복구 \n",
        "X_test_back = nmf.inverse_transform(X_test_nmf) # X_test_nmf를 원래 데이터로 복구 \n",
        "print(X_train_back.shape)\n",
        "print(X_test_back.shape)"
      ],
      "execution_count": 0,
      "outputs": []
    },
    {
      "metadata": {
        "id": "dtrgZBnLIVcv",
        "colab_type": "text"
      },
      "cell_type": "markdown",
      "source": [
        "## (3) 실행결과 확인"
      ]
    },
    {
      "metadata": {
        "scrolled": true,
        "id": "CRveoxHoIVcv",
        "colab_type": "code",
        "colab": {}
      },
      "cell_type": "code",
      "source": [
        "fig, axes = plt.subplots(2, 5, figsize=(10, 5), subplot_kw={'xticks':(), 'yticks':()})\n",
        "\n",
        "for i, (component, ax) in enumerate(zip(nmf.components_, axes.ravel())):\n",
        "    ax.imshow(component.reshape(image_shape))\n",
        "    ax.set_title(\"NMF {}\".format((i+1)))"
      ],
      "execution_count": 0,
      "outputs": []
    },
    {
      "metadata": {
        "id": "-VK8yLanIVc2",
        "colab_type": "code",
        "colab": {}
      },
      "cell_type": "code",
      "source": [
        "fig, axes = plt.subplots(2, 5, figsize=(10, 5), \tsubplot_kw={'xticks':(), 'yticks':()})\n",
        "for i, (component, ax) in enumerate(zip(X_train,axes.ravel())):\n",
        "    ax.imshow(component.reshape(image_shape))\n",
        "    ax.set_title(\"Original {}\".format((i+1)))\n",
        "\n",
        "fig, axes = plt.subplots(2, 5, figsize=(10, 5), \tsubplot_kw={'xticks':(), 'yticks':()})\n",
        "for i, (component, ax) in enumerate(zip(X_train_back,axes.ravel())):\n",
        "    ax.imshow(component.reshape(image_shape))\n",
        "    ax.set_title(\"Reconsturcted {}\".format((i+1)))"
      ],
      "execution_count": 0,
      "outputs": []
    },
    {
      "metadata": {
        "id": "jASyVQ6jIVc4",
        "colab_type": "code",
        "colab": {}
      },
      "cell_type": "code",
      "source": [
        "fig, axes = plt.subplots(2, 5, figsize=(10, 5), \tsubplot_kw={'xticks':(), 'yticks':()})\n",
        "for i, (component, ax) in enumerate(zip(X_test,axes.ravel())):\n",
        "    ax.imshow(component.reshape(image_shape))\n",
        "    ax.set_title(\"Original {}\".format((i+1)))\n",
        "\n",
        "fig, axes = plt.subplots(2, 5, figsize=(10, 5), \tsubplot_kw={'xticks':(), 'yticks':()})\n",
        "for i, (component, ax) in enumerate(zip(X_test_back,axes.ravel())):\n",
        "    ax.imshow(component.reshape(image_shape))\n",
        "    ax.set_title(\"Reconsturcted {}\".format((i+1)))"
      ],
      "execution_count": 0,
      "outputs": []
    },
    {
      "metadata": {
        "id": "g8f-6pWjIVc7",
        "colab_type": "code",
        "colab": {}
      },
      "cell_type": "code",
      "source": [
        "import mglearn\n",
        "plot_nmf_faces(X_train, X_test, image_shape) # time: 8.8min"
      ],
      "execution_count": 0,
      "outputs": []
    },
    {
      "metadata": {
        "id": "cFXCgOrLIVc9",
        "colab_type": "text"
      },
      "cell_type": "markdown",
      "source": [
        "## 종합"
      ]
    },
    {
      "metadata": {
        "id": "WdW3Yg2JIVc-",
        "colab_type": "code",
        "colab": {}
      },
      "cell_type": "code",
      "source": [
        "fig, axes = plt.subplots(2, 5, figsize=(10, 5), subplot_kw={'xticks': (), 'yticks':()})\n",
        "for ax, fe_pca, fe_nmf in zip(axes.T, pca.components_, nmf.components_):\n",
        "    ax[0].imshow(fe_pca.reshape(image_shape))\n",
        "    ax[1].imshow(fe_nmf.reshape(image_shape))\n",
        "\n",
        "axes[0,0].set_ylabel(\"PCA\")\n",
        "axes[1,0].set_ylabel(\"NMF\")"
      ],
      "execution_count": 0,
      "outputs": []
    },
    {
      "metadata": {
        "id": "nlVbAMPvIVdA",
        "colab_type": "code",
        "colab": {}
      },
      "cell_type": "code",
      "source": [
        "X_reconstructed_pca=pca.inverse_transform(pca.transform(X_test))\n",
        "X_reconstructed_nmf=np.dot(nmf.transform(X_test), nmf.components_)\n",
        "fig, axes=plt.subplots(3, 5, figsize=(10, 8), subplot_kw={'xticks': (),'yticks':()})\n",
        "for ax, ori, ir_pca, ir_nmf in zip(axes.T, X_test, X_reconstructed_pca,X_reconstructed_nmf):\n",
        "    ax[0].imshow(ori.reshape(image_shape))\n",
        "    ax[1].imshow(ir_pca.reshape(image_shape))\n",
        "    ax[2].imshow(ir_nmf.reshape(image_shape))\n",
        "\n",
        "axes[0,0].set_ylabel(\"Original\")\n",
        "axes[1,0].set_ylabel(\"PCA\")\n",
        "axes[2,0].set_ylabel(\"NMF\")"
      ],
      "execution_count": 0,
      "outputs": []
    },
    {
      "metadata": {
        "id": "mbTJsURVIVdC",
        "colab_type": "text"
      },
      "cell_type": "markdown",
      "source": [
        "# TensorFlow Tutorial"
      ]
    },
    {
      "metadata": {
        "id": "O4emlnRwIVdC",
        "colab_type": "code",
        "colab": {}
      },
      "cell_type": "code",
      "source": [
        "import tensorflow as tf"
      ],
      "execution_count": 0,
      "outputs": []
    },
    {
      "metadata": {
        "id": "CiyDC9FzIVdE",
        "colab_type": "text"
      },
      "cell_type": "markdown",
      "source": [
        "## Data Flow Graphs"
      ]
    },
    {
      "metadata": {
        "id": "IPwYUSU6IVdE",
        "colab_type": "code",
        "colab": {}
      },
      "cell_type": "code",
      "source": [
        "a = tf.add(3, 5)\n",
        "print(a)"
      ],
      "execution_count": 0,
      "outputs": []
    },
    {
      "metadata": {
        "id": "xuABpvNnIVdG",
        "colab_type": "code",
        "colab": {}
      },
      "cell_type": "code",
      "source": [
        "sess = tf.Session()\n",
        "print(sess.run(a))    # 8\n",
        "sess.close()  # 더 이상 필요하지 않은 자원을 할당 해제"
      ],
      "execution_count": 0,
      "outputs": []
    },
    {
      "metadata": {
        "id": "wjLWDEnRIVdH",
        "colab_type": "code",
        "colab": {}
      },
      "cell_type": "code",
      "source": [
        "with tf.Session() as sess:\n",
        "    print(sess.run(a))    # 8"
      ],
      "execution_count": 0,
      "outputs": []
    },
    {
      "metadata": {
        "id": "t0WmGfvRIVdI",
        "colab_type": "text"
      },
      "cell_type": "markdown",
      "source": [
        "## Constants & Operations"
      ]
    },
    {
      "metadata": {
        "scrolled": false,
        "id": "b6Z8IfmVIVdJ",
        "colab_type": "code",
        "colab": {}
      },
      "cell_type": "code",
      "source": [
        "a = tf.constant([2, 2])\n",
        "b = tf.constant([[0, 1], [2, 3]])\n",
        "x = tf.add(a, b)\n",
        "y = tf.multiply(a, b)\n",
        "with tf.Session() as sess:\n",
        "    x, y = sess.run([x, y])\n",
        "    print(x)\n",
        "    print(y)"
      ],
      "execution_count": 0,
      "outputs": []
    },
    {
      "metadata": {
        "id": "7ASp1X1bIVdK",
        "colab_type": "text"
      },
      "cell_type": "markdown",
      "source": [
        "## 실습\n",
        "\n",
        "### 텐서플로우의 상수와 오퍼레이션을 이용하여 우변의 값을 얻어보자\n",
        "![tf_eq](https://github.com/jin530/190428_unsupervised_tensorflow/blob/master/image/tf_equation.png?raw=1)"
      ]
    },
    {
      "metadata": {
        "id": "p7flt1lAIVdL",
        "colab_type": "code",
        "colab": {}
      },
      "cell_type": "code",
      "source": [
        "val1 = np.zeros(3)\n",
        "val2 = np.zeros(1)\n",
        "val3 = np.zeros((2,2))\n",
        "#-----------------------------------------------------\n",
        "# 이 곳에 코드를 작성하세요.\n",
        "\n",
        "\n",
        "\n",
        "\n",
        "\n",
        "\n",
        "\n",
        "\n",
        "\n",
        "\n",
        "#-----------------------------------------------------\n",
        "print(val1)\n",
        "print(val2)\n",
        "print(val3)"
      ],
      "execution_count": 0,
      "outputs": []
    },
    {
      "metadata": {
        "id": "NQBll0-xIVdQ",
        "colab_type": "text"
      },
      "cell_type": "markdown",
      "source": [
        "## Variables"
      ]
    },
    {
      "metadata": {
        "id": "VUYCDB7lIVdQ",
        "colab_type": "code",
        "colab": {}
      },
      "cell_type": "code",
      "source": [
        "W = tf.Variable(10)\n",
        "assign_op = W.assign(100)\n",
        "with tf.Session() as sess:\n",
        "    sess.run(assign_op)\n",
        "    print(W.eval())"
      ],
      "execution_count": 0,
      "outputs": []
    },
    {
      "metadata": {
        "id": "tt2v4YxDIVdS",
        "colab_type": "text"
      },
      "cell_type": "markdown",
      "source": [
        "## 실습\n",
        "\n",
        "### 텐서플로우의 변수와 오퍼레이션을 이용하여 우변의 값을 얻어보자\n",
        "![tf_eq](https://github.com/jin530/190428_unsupervised_tensorflow/blob/master/image/tf_equation.png?raw=1)"
      ]
    },
    {
      "metadata": {
        "id": "YQcrmyEhIVdS",
        "colab_type": "code",
        "colab": {}
      },
      "cell_type": "code",
      "source": [
        "val1 = np.zeros(3)\n",
        "val2 = np.zeros(1)\n",
        "val3 = np.zeros((2,2))\n",
        "#-----------------------------------------------------\n",
        "# 이 곳에 코드를 작성하세요.\n",
        "\n",
        "\n",
        "\n",
        "\n",
        "\n",
        "\n",
        "#-----------------------------------------------------\n",
        "print(val1)\n",
        "print(val2)\n",
        "print(val3)"
      ],
      "execution_count": 0,
      "outputs": []
    },
    {
      "metadata": {
        "id": "M8SW-KCYIVdU",
        "colab_type": "text"
      },
      "cell_type": "markdown",
      "source": [
        "## Placeholder"
      ]
    },
    {
      "metadata": {
        "id": "_mUHDvo-IVdV",
        "colab_type": "code",
        "colab": {}
      },
      "cell_type": "code",
      "source": [
        "a = tf.placeholder(tf.float32, shape=[3])\n",
        "b = tf.constant([5, 5, 5], tf.float32)\n",
        "c = a + b # tf.add(a, b) 와 같다.\n",
        "with tf.Session() as sess:\n",
        "    print(sess.run(c, feed_dict={a: [1, 2, 3]}))"
      ],
      "execution_count": 0,
      "outputs": []
    },
    {
      "metadata": {
        "id": "XlR6KKeqIVdX",
        "colab_type": "text"
      },
      "cell_type": "markdown",
      "source": [
        "## 실습\n",
        "\n",
        "### 텐서플로의 플레이스홀더와 오퍼레이션을 이용하여 우변의 값을 얻어보자\n",
        "![tf_eq](https://github.com/jin530/190428_unsupervised_tensorflow/blob/master/image/tf_equation.png?raw=1)"
      ]
    },
    {
      "metadata": {
        "id": "EbPP4B-bIVda",
        "colab_type": "code",
        "colab": {}
      },
      "cell_type": "code",
      "source": [
        "val1 = np.zeros(3)\n",
        "val2 = np.zeros(1)\n",
        "val3 = np.zeros((2,2))\n",
        "#-----------------------------------------------------\n",
        "# 이 곳에 코드를 작성하세요.\n",
        "\n",
        "\n",
        "\n",
        "\n",
        "\n",
        "\n",
        "#-----------------------------------------------------\n",
        "print(val1)\n",
        "print(val2)\n",
        "print(val3)"
      ],
      "execution_count": 0,
      "outputs": []
    }
  ]
}